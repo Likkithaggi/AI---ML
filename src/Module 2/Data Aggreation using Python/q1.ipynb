{
 "cells": [
  {
   "cell_type": "markdown",
   "metadata": {},
   "source": [
    "Title: Introduction to Data Aggregation\n",
    "<br>\n",
    "Objective: Understand the basic concepts of data aggregation and practice simple aggregation methods."
   ]
  },
  {
   "cell_type": "markdown",
   "metadata": {},
   "source": [
    "Task 1: Calculating Sum\n",
    "<br>\n",
    "Task: Use a numerical dataset containing columns like 'sales', 'profit', and 'quantity'.\n",
    "Calculate the total sales for the dataset.\n",
    "<br>\n",
    "Steps:<br>\n",
    "1. Load the dataset using pandas.<br>\n",
    "2. Apply the .sum() function on the 'sales' column.<br>\n",
    "3. Verify the result by manually summing a portion of the 'sales' values."
   ]
  },
  {
   "cell_type": "code",
   "execution_count": 1,
   "metadata": {},
   "outputs": [
    {
     "name": "stdout",
     "output_type": "stream",
     "text": [
      "Sales by Store:\n",
      " Store\n",
      "A    250\n",
      "B    380\n",
      "C    300\n",
      "Name: Sales, dtype: int64\n",
      "\n",
      "Sales and Quantity by Product:\n",
      "          Sales  Quantity\n",
      "Product                 \n",
      "Apple      430        43\n",
      "Banana     500        50\n",
      "\n",
      "Average Sales per Store:\n",
      " Store\n",
      "A    125.0\n",
      "B    190.0\n",
      "C    150.0\n",
      "Name: Sales, dtype: float64\n",
      "\n",
      "Count of entries per Store:\n",
      " Store\n",
      "A    2\n",
      "B    2\n",
      "C    2\n",
      "dtype: int64\n"
     ]
    }
   ],
   "source": [
    "# Write your code from he\n",
    "import pandas as pd\n",
    "\n",
    "# Sample data: Sales data for different stores and products\n",
    "data = {\n",
    "    'Store': ['A', 'A', 'B', 'B', 'C', 'C'],\n",
    "    'Product': ['Apple', 'Banana', 'Apple', 'Banana', 'Apple', 'Banana'],\n",
    "    'Sales': [100, 150, 200, 180, 130, 170],\n",
    "    'Quantity': [10, 15, 20, 18, 13, 17]\n",
    "}\n",
    "\n",
    "df = pd.DataFrame(data)\n",
    "\n",
    "# 1. Aggregate sales by store\n",
    "sales_by_store = df.groupby('Store')['Sales'].sum()\n",
    "print(\"Sales by Store:\\n\", sales_by_store)\n",
    "\n",
    "# 2. Aggregate sales and quantity by product\n",
    "sales_quantity_by_product = df.groupby('Product')[['Sales', 'Quantity']].sum()\n",
    "print(\"\\nSales and Quantity by Product:\\n\", sales_quantity_by_product)\n",
    "\n",
    "# 3. Get the average sales per store\n",
    "average_sales_by_store = df.groupby('Store')['Sales'].mean()\n",
    "print(\"\\nAverage Sales per Store:\\n\", average_sales_by_store)\n",
    "\n",
    "# 4. Count the number of entries for each store\n",
    "count_by_store = df.groupby('Store').size()\n",
    "print(\"\\nCount of entries per Store:\\n\", count_by_store)\n"
   ]
  },
  {
   "cell_type": "code",
   "execution_count": null,
   "metadata": {},
   "outputs": [],
   "source": []
  },
  {
   "cell_type": "code",
   "execution_count": null,
   "metadata": {},
   "outputs": [],
   "source": []
  },
  {
   "cell_type": "markdown",
   "metadata": {},
   "source": []
  },
  {
   "cell_type": "markdown",
   "metadata": {},
   "source": [
    "Task 2: Calculating Mean<br>\n",
    "\n",
    "Task: Calculate the average quantity sold.<br>\n",
    "Steps:<br>\n",
    "4. Load the dataset.<br>\n",
    "5. Use the .mean() function on the 'quantity' column to find the average.<br>\n",
    "6. Double-check by calculating the mean manually on a small selection."
   ]
  },
  {
   "cell_type": "code",
   "execution_count": 2,
   "metadata": {},
   "outputs": [
    {
     "name": "stdout",
     "output_type": "stream",
     "text": [
      "Average Quantity Sold: 15.5\n",
      "Manually Calculated Average: 15.0\n"
     ]
    }
   ],
   "source": [
    "# Write your code from here\n",
    "import pandas as pd\n",
    "\n",
    "data = {\n",
    "    'Store': ['A', 'A', 'B', 'B', 'C', 'C'],\n",
    "    'Product': ['Apple', 'Banana', 'Apple', 'Banana', 'Apple', 'Banana'],\n",
    "    'Sales': [100, 150, 200, 180, 130, 170],\n",
    "    'Quantity': [10, 15, 20, 18, 13, 17]\n",
    "}\n",
    "\n",
    "df = pd.DataFrame(data)\n",
    "\n",
    "average_quantity = df['Quantity'].mean()\n",
    "print(f\"Average Quantity Sold: {average_quantity}\")\n",
    "\n",
    "manual_mean = (10 + 15 + 20) / 3\n",
    "print(f\"Manually Calculated Average: {manual_mean}\")\n"
   ]
  },
  {
   "cell_type": "markdown",
   "metadata": {},
   "source": []
  }
 ],
 "metadata": {
  "kernelspec": {
   "display_name": "Python 3",
   "language": "python",
   "name": "python3"
  },
  "language_info": {
   "codemirror_mode": {
    "name": "ipython",
    "version": 3
   },
   "file_extension": ".py",
   "mimetype": "text/x-python",
   "name": "python",
   "nbconvert_exporter": "python",
   "pygments_lexer": "ipython3",
   "version": "3.10.12"
  }
 },
 "nbformat": 4,
 "nbformat_minor": 2
}
