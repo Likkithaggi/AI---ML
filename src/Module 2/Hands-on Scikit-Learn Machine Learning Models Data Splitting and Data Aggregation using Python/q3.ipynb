{
 "cells": [
  {
   "cell_type": "code",
   "execution_count": 1,
   "metadata": {},
   "outputs": [
    {
     "name": "stdout",
     "output_type": "stream",
     "text": [
      "File 'house_prices.csv' not found in current directory.\n"
     ]
    }
   ],
   "source": [
    "# Question 3: Advanced Model Evaluation with Feature Selection for House Prices\n",
    "\n",
    "# Step 1: Load a house prices dataset from CSV (Assume you have a house_prices.csv ).\n",
    "# Step 2: Apply feature selection and create a train-test split.\n",
    "# Step 3: Train a Lasso Regression model.\n",
    "# Step 4: Perform model evaluation and hyperparameter tuning using GridSearchCV.\n",
    "import os\n",
    "import pandas as pd\n",
    "from sklearn.model_selection import train_test_split, GridSearchCV\n",
    "from sklearn.linear_model import Lasso\n",
    "from sklearn.metrics import mean_squared_error\n",
    "from sklearn.preprocessing import StandardScaler\n",
    "from sklearn.pipeline import Pipeline\n",
    "from sklearn.impute import SimpleImputer\n",
    "from sklearn.feature_selection import SelectFromModel\n",
    "\n",
    "if 'house_prices.csv' in os.listdir():\n",
    "    df = pd.read_csv('house_prices.csv')\n",
    "    \n",
    "    df = df.select_dtypes(include=['number']).dropna(axis=1)\n",
    "    df.dropna(inplace=True)\n",
    "    \n",
    "    X = df.drop('SalePrice', axis=1)\n",
    "    y = df['SalePrice']\n",
    "\n",
    "    X_train, X_test, y_train, y_test = train_test_split(X, y, test_size=0.2, random_state=42)\n",
    "\n",
    "    pipeline = Pipeline([\n",
    "        ('imputer', SimpleImputer(strategy='median')),\n",
    "        ('scaler', StandardScaler()),\n",
    "        ('feature_select', SelectFromModel(Lasso(alpha=0.1))),\n",
    "        ('model', Lasso())\n",
    "    ])\n",
    "\n",
    "    param_grid = {\n",
    "        'model__alpha': [0.001, 0.01, 0.1, 1, 10]\n",
    "    }\n",
    "\n",
    "    grid = GridSearchCV(pipeline, param_grid, cv=5, scoring='neg_mean_squared_error')\n",
    "    grid.fit(X_train, y_train)\n",
    "\n",
    "    y_pred = grid.predict(X_test)\n",
    "    rmse = mean_squared_error(y_test, y_pred, squared=False)\n",
    "\n",
    "    print(f\"Best alpha: {grid.best_params_['model__alpha']}\")\n",
    "    print(f\"Test RMSE: {rmse:.2f}\")\n",
    "else:\n",
    "    print(\"File 'house_prices.csv' not found in current directory.\")\n"
   ]
  },
  {
   "cell_type": "markdown",
   "metadata": {},
   "source": []
  }
 ],
 "metadata": {
  "kernelspec": {
   "display_name": "Python 3",
   "language": "python",
   "name": "python3"
  },
  "language_info": {
   "codemirror_mode": {
    "name": "ipython",
    "version": 3
   },
   "file_extension": ".py",
   "mimetype": "text/x-python",
   "name": "python",
   "nbconvert_exporter": "python",
   "pygments_lexer": "ipython3",
   "version": "3.10.12"
  }
 },
 "nbformat": 4,
 "nbformat_minor": 2
}
