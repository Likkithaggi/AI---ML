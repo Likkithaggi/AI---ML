{
 "cells": [
  {
   "cell_type": "code",
   "execution_count": 1,
   "metadata": {},
   "outputs": [
    {
     "name": "stdout",
     "output_type": "stream",
     "text": [
      "File 'titanic.csv' not found in current directory.\n"
     ]
    }
   ],
   "source": [
    "# Question 2: Feature Engineering & Hyperparameter Tuning on the Titanic Dataset\n",
    "\n",
    "# Step 1: Load the Titanic dataset (Assume you have a file named titanic.csv ).\n",
    "# Step 2: Create features and handle missing values.\n",
    "# Step 3: Train a pipeline using a Random Forest with GridSearchCV.\n",
    "# Step 4: Evaluate the tuned model with cross-validation.\n",
    "import os\n",
    "import pandas as pd\n",
    "from sklearn.model_selection import train_test_split, GridSearchCV, cross_val_score\n",
    "from sklearn.ensemble import RandomForestClassifier\n",
    "from sklearn.pipeline import Pipeline\n",
    "from sklearn.impute import SimpleImputer\n",
    "from sklearn.preprocessing import OneHotEncoder\n",
    "from sklearn.compose import ColumnTransformer\n",
    "\n",
    "if 'titanic.csv' in os.listdir():\n",
    "    df = pd.read_csv('titanic.csv')\n",
    "    \n",
    "    df = df[['Pclass', 'Sex', 'Age', 'SibSp', 'Parch', 'Fare', 'Embarked', 'Survived']]\n",
    "    df.dropna(subset=['Embarked'], inplace=True)\n",
    "    \n",
    "    X = df.drop('Survived', axis=1)\n",
    "    y = df['Survived']\n",
    "    \n",
    "    num_features = ['Age', 'SibSp', 'Parch', 'Fare']\n",
    "    cat_features = ['Pclass', 'Sex', 'Embarked']\n",
    "\n",
    "    num_transformer = SimpleImputer(strategy='median')\n",
    "    cat_transformer = Pipeline([\n",
    "        ('imputer', SimpleImputer(strategy='most_frequent')),\n",
    "        ('encoder', OneHotEncoder(handle_unknown='ignore'))\n",
    "    ])\n",
    "\n",
    "    preprocessor = ColumnTransformer([\n",
    "        ('num', num_transformer, num_features),\n",
    "        ('cat', cat_transformer, cat_features)\n",
    "    ])\n",
    "\n",
    "    clf = Pipeline([\n",
    "        ('preprocess', preprocessor),\n",
    "        ('model', RandomForestClassifier(random_state=42))\n",
    "    ])\n",
    "\n",
    "    param_grid = {\n",
    "        'model__n_estimators': [50, 100],\n",
    "        'model__max_depth': [5, 10]\n",
    "    }\n",
    "\n",
    "    grid = GridSearchCV(clf, param_grid, cv=5)\n",
    "    grid.fit(X, y)\n",
    "\n",
    "    scores = cross_val_score(grid.best_estimator_, X, y, cv=5)\n",
    "    print(f\"Best Params: {grid.best_params_}\")\n",
    "    print(f\"Cross-Validated Accuracy: {scores.mean():.4f}\")\n",
    "else:\n",
    "    print(\"File 'titanic.csv' not found in current directory.\")\n"
   ]
  }
 ],
 "metadata": {
  "kernelspec": {
   "display_name": "Python 3",
   "language": "python",
   "name": "python3"
  },
  "language_info": {
   "codemirror_mode": {
    "name": "ipython",
    "version": 3
   },
   "file_extension": ".py",
   "mimetype": "text/x-python",
   "name": "python",
   "nbconvert_exporter": "python",
   "pygments_lexer": "ipython3",
   "version": "3.10.12"
  }
 },
 "nbformat": 4,
 "nbformat_minor": 2
}
