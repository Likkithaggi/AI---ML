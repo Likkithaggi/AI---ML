{
 "cells": [
  {
   "cell_type": "code",
   "execution_count": 1,
   "metadata": {},
   "outputs": [
    {
     "name": "stdout",
     "output_type": "stream",
     "text": [
      "Top terms per cluster:\n",
      "Cluster 0: thanks, graphics, image, know, file, does, files, program, format, like\n",
      "Cluster 1: car, cars, just, like, engine, good, think, don, new, know\n",
      "Cluster 2: space, nasa, launch, shuttle, orbit, moon, just, think, people, earth\n",
      "\n",
      "New document assigned to cluster: 0\n"
     ]
    }
   ],
   "source": [
    "from sklearn.feature_extraction.text import TfidfVectorizer\n",
    "from sklearn.cluster import KMeans\n",
    "from sklearn.datasets import fetch_20newsgroups\n",
    "import matplotlib.pyplot as plt\n",
    "\n",
    "# Load a subset of the 20 newsgroups dataset\n",
    "categories = ['sci.space', 'rec.autos', 'comp.graphics']\n",
    "newsgroups = fetch_20newsgroups(subset='all', categories=categories, remove=('headers', 'footers', 'quotes'))\n",
    "\n",
    "# Step 1: TF-IDF Vectorization\n",
    "vectorizer = TfidfVectorizer(stop_words='english', max_df=0.5)\n",
    "X = vectorizer.fit_transform(newsgroups.data)\n",
    "\n",
    "# Step 2: Apply K-Means clustering\n",
    "true_k = 3\n",
    "kmeans = KMeans(n_clusters=true_k, random_state=42)\n",
    "kmeans.fit(X)\n",
    "\n",
    "# Step 3: Print top terms per cluster\n",
    "print(\"Top terms per cluster:\")\n",
    "order_centroids = kmeans.cluster_centers_.argsort()[:, ::-1]\n",
    "terms = vectorizer.get_feature_names_out()\n",
    "for i in range(true_k):\n",
    "    top_terms = [terms[ind] for ind in order_centroids[i, :10]]\n",
    "    print(f\"Cluster {i}: {', '.join(top_terms)}\")\n",
    "\n",
    "# Optional: Predict the cluster for new text\n",
    "new_doc = [\"The new graphics card improves rendering speed significantly.\"]\n",
    "new_vec = vectorizer.transform(new_doc)\n",
    "predicted = kmeans.predict(new_vec)\n",
    "print(f\"\\nNew document assigned to cluster: {predicted[0]}\")\n"
   ]
  }
 ],
 "metadata": {
  "kernelspec": {
   "display_name": "Python 3",
   "language": "python",
   "name": "python3"
  },
  "language_info": {
   "codemirror_mode": {
    "name": "ipython",
    "version": 3
   },
   "file_extension": ".py",
   "mimetype": "text/x-python",
   "name": "python",
   "nbconvert_exporter": "python",
   "pygments_lexer": "ipython3",
   "version": "3.10.12"
  }
 },
 "nbformat": 4,
 "nbformat_minor": 2
}
