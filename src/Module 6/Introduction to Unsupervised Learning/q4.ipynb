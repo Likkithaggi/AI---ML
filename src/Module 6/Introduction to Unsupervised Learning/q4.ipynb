{
 "cells": [
  {
   "cell_type": "code",
   "execution_count": 1,
   "metadata": {},
   "outputs": [],
   "source": [
    "# Function to one-hot encode the dataset\n",
    "def encode_transactions(df):\n",
    "    items = set()\n",
    "    for transaction in df.values.flatten():\n",
    "        if isinstance(transaction, str):\n",
    "            items.add(transaction)\n",
    "    \n",
    "    # Convert items set to a list for columns\n",
    "    items = list(items)\n",
    "    \n",
    "    # Create one-hot encoded dataframe\n",
    "    one_hot = pd.DataFrame(columns=items, index=df.index).fillna(0)\n",
    "    \n",
    "    for idx, row in df.iterrows():\n",
    "        for item in row:\n",
    "            if pd.notna(item):\n",
    "                one_hot.at[idx, item] = 1\n",
    "    return one_hot\n"
   ]
  }
 ],
 "metadata": {
  "kernelspec": {
   "display_name": "Python 3",
   "language": "python",
   "name": "python3"
  },
  "language_info": {
   "codemirror_mode": {
    "name": "ipython",
    "version": 3
   },
   "file_extension": ".py",
   "mimetype": "text/x-python",
   "name": "python",
   "nbconvert_exporter": "python",
   "pygments_lexer": "ipython3",
   "version": "3.10.12"
  }
 },
 "nbformat": 4,
 "nbformat_minor": 2
}
